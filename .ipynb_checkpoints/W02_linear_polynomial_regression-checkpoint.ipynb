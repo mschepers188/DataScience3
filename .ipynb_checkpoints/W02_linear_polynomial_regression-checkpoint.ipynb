{
 "cells": [
  {
   "cell_type": "markdown",
   "metadata": {},
   "source": [
    "# Polynomial regression \n",
    "\n",
    "In this assignment we investigate the change in average temperature per year in the Netherlands. We are looking for a model that can accurately predict the average temperature of a year. We use polynomial regression for this.\n",
    "\n",
    "As usual, we will perform the following steps:\n",
    "\n",
    "- Load the dataset\n",
    "- Prepare the data set\n",
    "- Perform regression\n",
    "- Evaluate the results\n",
    "- Plot and evaluate the learning curves\n",
    "\n",
    "For this assignment we use the [GlobalLandTemperaturesByCountry.csv](https://www.kaggle.com/siddharthnishtala/basic-polynomial-regression-india/data).\n",
    "\n",
    "Some code will be given. In this case, make sure that your own variable names are the same."
   ]
  },
  {
   "cell_type": "code",
   "execution_count": 1,
   "metadata": {},
   "outputs": [],
   "source": [
    "# all packages we need\n",
    "import pandas as pd\n",
    "import numpy as np\n",
    "from matplotlib import pyplot as plt\n",
    "from sklearn import linear_model\n",
    "\n",
    "from sklearn.linear_model import LinearRegression\n",
    "from sklearn.model_selection import train_test_split\n",
    "from sklearn.metrics import mean_squared_error\n",
    "from sklearn.metrics import r2_score\n",
    "from sklearn.preprocessing import PolynomialFeatures\n",
    "from sklearn.preprocessing import StandardScaler"
   ]
  },
  {
   "cell_type": "markdown",
   "metadata": {},
   "source": [
    "## 1. Read and prepare the data\n",
    "Perform the following steps:\n",
    "\n",
    "#### 1. Read in:\n",
    "- Read the CSV file.\n",
    "\n",
    "#### 2a. Prepare - remove what is unnecessary\n",
    "\n",
    "- Select only the rows where ** Country ** is ** Netherlands **.\n",
    "- With method `dropna ()` remove the rows where ** NaN ** 's exist for the ** AverageTemperature **.\n",
    "- Remove the columns with no added value: ** AverageTemperatureUncertainty ** and ** Country **.\n",
    "\n",
    "\n",
    "#### 2b. Prep - create what is needed\n",
    "\n",
    "- Create a new column ** Year **, in which we store the year of the measurement. Use the method `df.index.year`\n",
    "\n",
    "#### 2c. Aggregate\n",
    "\n",
    "- We now have a data frame with multiple temperature data per year. We will aggregate these to get a table with year and average temperature.\n",
    "- Using the data frame made above, create a new data frame with average temperature per year. To do this, use the method `df.groupby (). Mean ()`\n",
    "- Remove the years for which less than 12 values are known (why do we do this?)\n",
    "\n",
    "#### 2d. Plot the data\n",
    "\n",
    "- Plot the data (year on the x-axis, average temperature on the y-axis) to inspect it. What do you see?"
   ]
  },
  {
   "cell_type": "code",
   "execution_count": null,
   "metadata": {},
   "outputs": [],
   "source": []
  },
  {
   "cell_type": "code",
   "execution_count": null,
   "metadata": {},
   "outputs": [],
   "source": []
  },
  {
   "cell_type": "code",
   "execution_count": null,
   "metadata": {},
   "outputs": [],
   "source": []
  },
  {
   "cell_type": "code",
   "execution_count": null,
   "metadata": {},
   "outputs": [],
   "source": []
  },
  {
   "cell_type": "markdown",
   "metadata": {},
   "source": [
    "## Code to prepare the data"
   ]
  },
  {
   "cell_type": "code",
   "execution_count": 2,
   "metadata": {},
   "outputs": [
    {
     "data": {
      "text/html": [
       "<div>\n",
       "<style scoped>\n",
       "    .dataframe tbody tr th:only-of-type {\n",
       "        vertical-align: middle;\n",
       "    }\n",
       "\n",
       "    .dataframe tbody tr th {\n",
       "        vertical-align: top;\n",
       "    }\n",
       "\n",
       "    .dataframe thead th {\n",
       "        text-align: right;\n",
       "    }\n",
       "</style>\n",
       "<table border=\"1\" class=\"dataframe\">\n",
       "  <thead>\n",
       "    <tr style=\"text-align: right;\">\n",
       "      <th></th>\n",
       "      <th>AverageTemperature</th>\n",
       "      <th>AverageTemperatureUncertainty</th>\n",
       "      <th>Country</th>\n",
       "    </tr>\n",
       "    <tr>\n",
       "      <th>dt</th>\n",
       "      <th></th>\n",
       "      <th></th>\n",
       "      <th></th>\n",
       "    </tr>\n",
       "  </thead>\n",
       "  <tbody>\n",
       "    <tr>\n",
       "      <th>1743-11-01</th>\n",
       "      <td>4.384</td>\n",
       "      <td>2.294</td>\n",
       "      <td>Åland</td>\n",
       "    </tr>\n",
       "    <tr>\n",
       "      <th>1743-12-01</th>\n",
       "      <td>NaN</td>\n",
       "      <td>NaN</td>\n",
       "      <td>Åland</td>\n",
       "    </tr>\n",
       "    <tr>\n",
       "      <th>1744-01-01</th>\n",
       "      <td>NaN</td>\n",
       "      <td>NaN</td>\n",
       "      <td>Åland</td>\n",
       "    </tr>\n",
       "    <tr>\n",
       "      <th>1744-02-01</th>\n",
       "      <td>NaN</td>\n",
       "      <td>NaN</td>\n",
       "      <td>Åland</td>\n",
       "    </tr>\n",
       "    <tr>\n",
       "      <th>1744-03-01</th>\n",
       "      <td>NaN</td>\n",
       "      <td>NaN</td>\n",
       "      <td>Åland</td>\n",
       "    </tr>\n",
       "  </tbody>\n",
       "</table>\n",
       "</div>"
      ],
      "text/plain": [
       "            AverageTemperature  AverageTemperatureUncertainty Country\n",
       "dt                                                                   \n",
       "1743-11-01               4.384                          2.294   Åland\n",
       "1743-12-01                 NaN                            NaN   Åland\n",
       "1744-01-01                 NaN                            NaN   Åland\n",
       "1744-02-01                 NaN                            NaN   Åland\n",
       "1744-03-01                 NaN                            NaN   Åland"
      ]
     },
     "execution_count": 2,
     "metadata": {},
     "output_type": "execute_result"
    }
   ],
   "source": [
    "# 1. load the data\n",
    "df = pd.read_csv(\"data/GlobalLandTemperaturesByCountry.csv\", index_col=0, parse_dates=True)\n",
    "df.head()"
   ]
  },
  {
   "cell_type": "code",
   "execution_count": 3,
   "metadata": {},
   "outputs": [
    {
     "data": {
      "text/plain": [
       "dt                     object\n",
       "AverageTemperature    float64\n",
       "dtype: object"
      ]
     },
     "execution_count": 3,
     "metadata": {},
     "output_type": "execute_result"
    }
   ],
   "source": [
    "# 2a\n",
    "df = pd.read_csv('data/GlobalLandTemperaturesByCountry.csv')\n",
    "NL = df[df['Country'] == 'Netherlands']\n",
    "NL = NL.drop(columns=['AverageTemperatureUncertainty','Country'])\n",
    "NL.dropna(axis=0, inplace=True)\n",
    "NL.dtypes"
   ]
  },
  {
   "cell_type": "code",
   "execution_count": 4,
   "metadata": {},
   "outputs": [
    {
     "data": {
      "text/html": [
       "<div>\n",
       "<style scoped>\n",
       "    .dataframe tbody tr th:only-of-type {\n",
       "        vertical-align: middle;\n",
       "    }\n",
       "\n",
       "    .dataframe tbody tr th {\n",
       "        vertical-align: top;\n",
       "    }\n",
       "\n",
       "    .dataframe thead th {\n",
       "        text-align: right;\n",
       "    }\n",
       "</style>\n",
       "<table border=\"1\" class=\"dataframe\">\n",
       "  <thead>\n",
       "    <tr style=\"text-align: right;\">\n",
       "      <th></th>\n",
       "      <th>dt</th>\n",
       "      <th>AverageTemperature</th>\n",
       "      <th>year</th>\n",
       "    </tr>\n",
       "  </thead>\n",
       "  <tbody>\n",
       "    <tr>\n",
       "      <th>367314</th>\n",
       "      <td>1743-11-01</td>\n",
       "      <td>8.009</td>\n",
       "      <td>1743</td>\n",
       "    </tr>\n",
       "    <tr>\n",
       "      <th>367319</th>\n",
       "      <td>1744-04-01</td>\n",
       "      <td>8.443</td>\n",
       "      <td>1744</td>\n",
       "    </tr>\n",
       "    <tr>\n",
       "      <th>367320</th>\n",
       "      <td>1744-05-01</td>\n",
       "      <td>11.643</td>\n",
       "      <td>1744</td>\n",
       "    </tr>\n",
       "    <tr>\n",
       "      <th>367321</th>\n",
       "      <td>1744-06-01</td>\n",
       "      <td>14.773</td>\n",
       "      <td>1744</td>\n",
       "    </tr>\n",
       "    <tr>\n",
       "      <th>367322</th>\n",
       "      <td>1744-07-01</td>\n",
       "      <td>16.277</td>\n",
       "      <td>1744</td>\n",
       "    </tr>\n",
       "    <tr>\n",
       "      <th>...</th>\n",
       "      <td>...</td>\n",
       "      <td>...</td>\n",
       "      <td>...</td>\n",
       "    </tr>\n",
       "    <tr>\n",
       "      <th>370547</th>\n",
       "      <td>2013-04-01</td>\n",
       "      <td>8.005</td>\n",
       "      <td>2013</td>\n",
       "    </tr>\n",
       "    <tr>\n",
       "      <th>370548</th>\n",
       "      <td>2013-05-01</td>\n",
       "      <td>11.632</td>\n",
       "      <td>2013</td>\n",
       "    </tr>\n",
       "    <tr>\n",
       "      <th>370549</th>\n",
       "      <td>2013-06-01</td>\n",
       "      <td>15.187</td>\n",
       "      <td>2013</td>\n",
       "    </tr>\n",
       "    <tr>\n",
       "      <th>370550</th>\n",
       "      <td>2013-07-01</td>\n",
       "      <td>18.975</td>\n",
       "      <td>2013</td>\n",
       "    </tr>\n",
       "    <tr>\n",
       "      <th>370551</th>\n",
       "      <td>2013-08-01</td>\n",
       "      <td>18.316</td>\n",
       "      <td>2013</td>\n",
       "    </tr>\n",
       "  </tbody>\n",
       "</table>\n",
       "<p>3166 rows × 3 columns</p>\n",
       "</div>"
      ],
      "text/plain": [
       "               dt  AverageTemperature  year\n",
       "367314 1743-11-01               8.009  1743\n",
       "367319 1744-04-01               8.443  1744\n",
       "367320 1744-05-01              11.643  1744\n",
       "367321 1744-06-01              14.773  1744\n",
       "367322 1744-07-01              16.277  1744\n",
       "...           ...                 ...   ...\n",
       "370547 2013-04-01               8.005  2013\n",
       "370548 2013-05-01              11.632  2013\n",
       "370549 2013-06-01              15.187  2013\n",
       "370550 2013-07-01              18.975  2013\n",
       "370551 2013-08-01              18.316  2013\n",
       "\n",
       "[3166 rows x 3 columns]"
      ]
     },
     "execution_count": 4,
     "metadata": {},
     "output_type": "execute_result"
    }
   ],
   "source": [
    "# 2b\n",
    "NL['dt'] =  pd.to_datetime(NL['dt'])\n",
    "NL['year'] = NL['dt'].dt.year\n",
    "NL"
   ]
  },
  {
   "cell_type": "code",
   "execution_count": 5,
   "metadata": {},
   "outputs": [
    {
     "data": {
      "text/plain": [
       "year\n",
       "1753     9.440083\n",
       "1754     9.111833\n",
       "1755     8.924750\n",
       "1756     9.568667\n",
       "1757     9.436250\n",
       "          ...    \n",
       "2008    10.794583\n",
       "2009    10.707167\n",
       "2010     9.264583\n",
       "2011    11.076000\n",
       "2012    10.438167\n",
       "Name: AverageTemperature, Length: 260, dtype: float64"
      ]
     },
     "execution_count": 5,
     "metadata": {},
     "output_type": "execute_result"
    }
   ],
   "source": [
    "# 2c\n",
    "NL = NL.groupby(['year']).filter(lambda x: x.year.size >= 12)\n",
    "NL = NL.groupby(['year'])['AverageTemperature'].mean()\n",
    "NL"
   ]
  },
  {
   "cell_type": "code",
   "execution_count": 6,
   "metadata": {},
   "outputs": [
    {
     "data": {
      "text/plain": [
       "year\n",
       "1753    9.440083\n",
       "1754    9.111833\n",
       "1755    8.924750\n",
       "1756    9.568667\n",
       "1757    9.436250\n",
       "Name: AverageTemperature, dtype: float64"
      ]
     },
     "execution_count": 6,
     "metadata": {},
     "output_type": "execute_result"
    }
   ],
   "source": [
    "NL.head()"
   ]
  },
  {
   "cell_type": "code",
   "execution_count": 8,
   "metadata": {},
   "outputs": [
    {
     "data": {
      "image/png": "[encoded data removed]",
      "text/plain": [
       "<Figure size 432x288 with 1 Axes>"
      ]
     },
     "metadata": {
      "needs_background": "light"
     },
     "output_type": "display_data"
    }
   ],
   "source": [
    "# 2d\n",
    "plt.plot(NL)\n",
    "plt.title('Average temperature in the Netherlands')\n",
    "plt.xlabel('Year'); plt.ylabel('Average temperature (°C)')\n",
    "plt.show()"
   ]
  },
  {
   "cell_type": "markdown",
   "metadata": {},
   "source": [
    "## Moving average every 10 years\n",
    "\n",
    "We are now going to take the moving average every 10 years. This reduces the variance in the data set. When applying the moving average, `NaN`s sometimes arise again, so we have to remove those again. The code for this is given below. Then we plot the year `x` against the mean temperature` y`.\n",
    "\n",
    "sources:\n",
    "- moving average: https://en.wikipedia.org/wiki/Moving_average\n",
    "- moving average in pandas: https://pandas.pydata.org/pandasdocs/stable/reference/api/pandas.DataFrame.rolling.html\n",
    "\n",
    "NOTE: 10 was chosen randomly as the rolling average window. Feel free to try other windows later."
   ]
  },
  {
   "cell_type": "code",
   "execution_count": 13,
   "metadata": {},
   "outputs": [],
   "source": [
    "# code for moving average\n",
    "df = NL.rolling(window=10).mean()\n",
    "df = df.dropna()\n",
    "\n",
    "y = df.values.reshape(-1,1)\n",
    "X = df.index.values\n",
    "X = X.reshape(-1,1)"
   ]
  },
  {
   "cell_type": "code",
   "execution_count": 14,
   "metadata": {},
   "outputs": [
    {
     "data": {
      "text/plain": [
       "[<matplotlib.lines.Line2D at 0x24b38585250>]"
      ]
     },
     "execution_count": 14,
     "metadata": {},
     "output_type": "execute_result"
    },
    {
     "data": {
      "image/png": "[encoded data removed]",
      "text/plain": [
       "<Figure size 432x288 with 1 Axes>"
      ]
     },
     "metadata": {
      "needs_background": "light"
     },
     "output_type": "display_data"
    }
   ],
   "source": [
    "# Plot the data\n",
    "plt.plot(X,y)\n",
    "# add code here to enhance the plot "
   ]
  },
  {
   "cell_type": "markdown",
   "metadata": {},
   "source": [
    "\n",
    "## 3. Perform polynomial regression\n",
    "\n",
    "By plotting the moving average, we now have a sense of how the regression line should run. This is clearly not linear but a polynomial. We will now try in steps to fit the line with polynomial regression. We do this with the following steps\n",
    "\n",
    "#### 3a. Prepare the data\n",
    "- Normalize the data.\n",
    "We do this with a `StandardScaler ()` that normalizes to a Z score. We use the code from the `sklearn.preprocessing`. We always normalize the X values.\n",
    "- Split the data into train and test set.\n",
    "We use the method `train_test_split` from the module` sklearn.model_selection`. Take a `test_size = 0.3` and` random_state = 1`\n",
    "\n",
    "#### 3b. Model\n",
    "- Now try the polyfit model with different polynomial degrees (eg grade 1,2,3,4,10,40).\n",
    "- Plot the model against the data\n",
    "\n",
    "#### 3c. Evaluate\n",
    "- Calculate the Mean Square Error (Or the Root Mean Square Error) of the train and test data\n",
    "- What do you think is the best model? Why?"
   ]
  },
  {
   "cell_type": "code",
   "execution_count": 15,
   "metadata": {},
   "outputs": [],
   "source": [
    "#Functions you need\n",
    "def model(X, y, degree):\n",
    "    \"\"\" function that models a polynomial\"\"\"\n",
    "    poly_features = PolynomialFeatures(degree=degree, include_bias=False)\n",
    "    X_poly = poly_features.fit_transform(X)\n",
    "    lin_reg = LinearRegression()\n",
    "    lin_reg.fit(X_poly, y)\n",
    "    print(f'\\nmodel outcome for {degree} degrees:')\n",
    "    print(f'intercept: {lin_reg.intercept_} coefficient {lin_reg.coef_}')\n",
    "    return [lin_reg, poly_features]\n",
    "\n",
    "\n",
    "def predict(X, model, poly_features, n=1000):\n",
    "    \"\"\" function that predicts y based on a model \"\"\"\n",
    "    X_pred=np.linspace(X.min(), X.max(), n).reshape(n, 1)\n",
    "    X_pred_poly = poly_features.transform(X_pred)\n",
    "    y_pred = model.predict(X_pred_poly)\n",
    "    return [X_pred, y_pred]\n",
    "\n",
    "\n",
    "# Plot the points and the regression curve\n",
    "def plot_polynomial(X,y,X_pred,y_pred):\n",
    "    \"\"\"function that plots data and prediction\"\"\"\n",
    "    plt.plot(X, y, \"b.\", label = 'Data')\n",
    "    plt.plot(X_pred, y_pred, \"r-\", linewidth=2, label=\"model trainset\")\n",
    "    plt.ylabel('Average Temperature')\n",
    "    plt.xlabel('Year')\n",
    "    plt.title('Average temperature in the Netherlands -  TRAIN')\n",
    "    plt.legend()\n",
    "    plt.show()"
   ]
  },
  {
   "cell_type": "code",
   "execution_count": 16,
   "metadata": {},
   "outputs": [],
   "source": [
    "#3a. Normalize the data (no changes needed)\n",
    "scaler = StandardScaler()\n",
    "scaler = scaler.fit(X)\n",
    "X = scaler.transform(X)"
   ]
  },
  {
   "cell_type": "code",
   "execution_count": 17,
   "metadata": {
    "scrolled": true
   },
   "outputs": [
    {
     "name": "stdout",
     "output_type": "stream",
     "text": [
      "train and test are splitted in:\n",
      "(200, 1) (200, 1)\n",
      "(51, 1) (51, 1)\n"
     ]
    }
   ],
   "source": [
    "#3a. Split de data (you can change test size if you want)\n",
    "X_train, X_test, y_train, y_test = train_test_split(X, y, test_size=0.2, random_state=1)\n",
    "print(\"train and test are splitted in:\")\n",
    "print(X_train.shape, y_train.shape)\n",
    "print(X_test.shape, y_test.shape)"
   ]
  },
  {
   "cell_type": "code",
   "execution_count": 18,
   "metadata": {},
   "outputs": [
    {
     "ename": "NameError",
     "evalue": "name 'lin_reg' is not defined",
     "output_type": "error",
     "traceback": [
      "\u001b[1;31m---------------------------------------------------------------------------\u001b[0m",
      "\u001b[1;31mNameError\u001b[0m                                 Traceback (most recent call last)",
      "\u001b[1;32mC:\\Users\\MARTIN~1\\AppData\\Local\\Temp/ipykernel_19536/2639449422.py\u001b[0m in \u001b[0;36m<module>\u001b[1;34m\u001b[0m\n\u001b[0;32m      6\u001b[0m \u001b[1;33m\u001b[0m\u001b[0m\n\u001b[0;32m      7\u001b[0m \u001b[1;31m#3c. calculate mean squared error from test set\u001b[0m\u001b[1;33m\u001b[0m\u001b[1;33m\u001b[0m\u001b[0m\n\u001b[1;32m----> 8\u001b[1;33m \u001b[0mX_pred\u001b[0m\u001b[1;33m,\u001b[0m \u001b[0my_pred\u001b[0m \u001b[1;33m=\u001b[0m \u001b[0mpredict\u001b[0m\u001b[1;33m(\u001b[0m\u001b[0mX_test\u001b[0m\u001b[1;33m,\u001b[0m \u001b[0mlin_reg\u001b[0m\u001b[1;33m,\u001b[0m \u001b[0mpoly_features\u001b[0m\u001b[1;33m,\u001b[0m \u001b[0mlen\u001b[0m\u001b[1;33m(\u001b[0m\u001b[0my_test\u001b[0m\u001b[1;33m)\u001b[0m\u001b[1;33m)\u001b[0m\u001b[1;33m\u001b[0m\u001b[1;33m\u001b[0m\u001b[0m\n\u001b[0m\u001b[0;32m      9\u001b[0m \u001b[0mprint\u001b[0m\u001b[1;33m(\u001b[0m\u001b[1;34m'Mean squared error: {mean_squared_error(y_test, y_pred):.2f}'\u001b[0m\u001b[1;33m)\u001b[0m\u001b[1;33m\u001b[0m\u001b[1;33m\u001b[0m\u001b[0m\n",
      "\u001b[1;31mNameError\u001b[0m: name 'lin_reg' is not defined"
     ]
    }
   ],
   "source": [
    "#3b. Model\n",
    "degree = 3 # change this\n",
    "# call the model function\n",
    "# call predict() \n",
    "#3b. call plot_polynomial() to plot\n",
    "\n",
    "#3c. calculate mean squared error from test set\n",
    "X_pred, y_pred = predict(X_test, lin_reg, poly_features, len(y_test))\n",
    "print('Mean squared error: {mean_squared_error(y_test, y_pred):.2f}')"
   ]
  },
  {
   "cell_type": "markdown",
   "metadata": {},
   "source": [
    "## Next\n",
    "\n",
    "This is the end of this notebook. We looked at only 1 feature and different order (degrees) of the model. Some models perform better than others. We can see that by the (root) mean square error. Because we only had 1 feature, we could visualize it easily. This becomes more difficult with multiple features. Next we will look at a technique called ** learning curve **. That is a method where you can evaluate models with multiple features."
   ]
  }
 ],
 "metadata": {
  "kernelspec": {
   "display_name": "Python 3 (ipykernel)",
   "language": "python",
   "name": "python3"
  },
  "language_info": {
   "codemirror_mode": {
    "name": "ipython",
    "version": 3
   },
   "file_extension": ".py",
   "mimetype": "text/x-python",
   "name": "python",
   "nbconvert_exporter": "python",
   "pygments_lexer": "ipython3",
   "version": "3.9.7"
  }
 },
 "nbformat": 4,
 "nbformat_minor": 2
}
