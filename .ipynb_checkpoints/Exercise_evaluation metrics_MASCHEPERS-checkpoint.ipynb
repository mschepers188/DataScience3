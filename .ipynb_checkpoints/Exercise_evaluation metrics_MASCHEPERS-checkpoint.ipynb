{
 "cells": [
  {
   "cell_type": "code",
   "execution_count": 1,
   "id": "4393b6af",
   "metadata": {},
   "outputs": [],
   "source": [
    "import pandas as pd\n",
    "import matplotlib.pyplot as plt\n",
    "import numpy as np"
   ]
  },
  {
   "cell_type": "markdown",
   "id": "68b39f8d",
   "metadata": {},
   "source": [
    "# Performance metrics – exercises\n",
    "\n",
    "The description of the used performance metrics can be found in chapter 3 (for the classification metrics) and chapter 2 (for the regression metrics) of the book ‘Hands-On Machine Learning with Scikit-Learn and TensorFlow’.\n",
    "## Exercise 1 – performance metrics for binary classification\n",
    "We have a dataset with 1158 patients, of who 105 patients have a certain disease that we are trying to predict. This ratio is typical for the disease, as it has a prevalence of approximately 10%.\n",
    "    a. A trained model achieves an accuracy of 0.91. What can you conclude about the usefulness of the model based on only the accuracy?\n",
    "This would suggest the model determines the condition correctly circa 91% of the times. This is quite problematic as the disease occurs realatively often (about 10% of the times) and out of these a large chunk will be missed.\n",
    "\n",
    "    b. Another model is trained, for which the confusion matrix looks as follows:"
   ]
  },
  {
   "cell_type": "markdown",
   "id": "98d42d20",
   "metadata": {},
   "source": [
    "<table>\n",
    "    <tr>\n",
    "        <td></td>\n",
    "        <td>positive</td>\n",
    "        <td>negative</td>\n",
    "        <td></td>\n",
    "        <td></td>\n",
    "        <td></td>\n",
    "        <td></td>\n",
    "        <td></td>\n",
    "        <td></td>\n",
    "        <td></td>\n",
    "    </tr>\n",
    "    <tr>\n",
    "        <td>positive</td>\n",
    "        <td>91</td>\n",
    "        <td>14</td>\n",
    "        <td></td>\n",
    "        <td></td>\n",
    "        <td></td>\n",
    "        <td></td>\n",
    "        <td></td>\n",
    "        <td></td>\n",
    "        <td></td>\n",
    "    </tr>\n",
    "    <tr>\n",
    "        <td>negative</td>\n",
    "        <td>33</td>\n",
    "        <td>1020</td>\n",
    "        <td></td>\n",
    "        <td></td>\n",
    "        <td></td>\n",
    "        <td></td>\n",
    "        <td></td>\n",
    "        <td></td>\n",
    "        <td></td>\n",
    "    </tr>"
   ]
  },
  {
   "cell_type": "code",
   "execution_count": 2,
   "id": "1a7fd68a",
   "metadata": {},
   "outputs": [],
   "source": [
    "TP, FP, FN, TN = 91, 14, 33, 1020"
   ]
  },
  {
   "cell_type": "markdown",
   "id": "fa4e9e82",
   "metadata": {},
   "source": [
    "1. What are the false positives in this case? And what are the false negatives?\n",
    "\n",
    "False positives: 33, False negatives: 14\n",
    "\n",
    "2. Compute the accuracy for this model."
   ]
  },
  {
   "cell_type": "code",
   "execution_count": 3,
   "id": "eef95d56",
   "metadata": {},
   "outputs": [
    {
     "name": "stdout",
     "output_type": "stream",
     "text": [
      "The accuracy is 0.96\n"
     ]
    }
   ],
   "source": [
    "accuracy = (TP + TN) / (TP+FP+FN+TN)\n",
    "print('The accuracy is {:.2}'.format(accuracy))"
   ]
  },
  {
   "cell_type": "markdown",
   "id": "91da456e",
   "metadata": {},
   "source": [
    "3. Compute the precision for this model. Describe what precision means in this case."
   ]
  },
  {
   "cell_type": "code",
   "execution_count": 4,
   "id": "8c2f9019",
   "metadata": {},
   "outputs": [
    {
     "name": "stdout",
     "output_type": "stream",
     "text": [
      "The precision is 0.87\n"
     ]
    }
   ],
   "source": [
    "precision = TP/(TP+FP)\n",
    "print('The precision is {:.2}'.format(precision))"
   ]
  },
  {
   "cell_type": "markdown",
   "id": "25a500cd",
   "metadata": {},
   "source": [
    "4. Compute the recall for this model and describe what recall means in this case.\t            "
   ]
  },
  {
   "cell_type": "code",
   "execution_count": 5,
   "id": "0ae46c87",
   "metadata": {},
   "outputs": [
    {
     "name": "stdout",
     "output_type": "stream",
     "text": [
      "The recall is 0.73\n"
     ]
    }
   ],
   "source": [
    "recall = TP / (TP + FN)\n",
    "print('The recall is {:.2}'.format(recall))"
   ]
  },
  {
   "cell_type": "markdown",
   "id": "2ec5ac1d",
   "metadata": {},
   "source": [
    "5. Compute the F1-score."
   ]
  },
  {
   "cell_type": "code",
   "execution_count": 6,
   "id": "cb08d701",
   "metadata": {},
   "outputs": [
    {
     "name": "stdout",
     "output_type": "stream",
     "text": [
      "The F1 value is 0.79\n"
     ]
    }
   ],
   "source": [
    "F1 = 2 * (precision*recall) / (precision+recall)\n",
    "print('The F1 value is {:.2}'.format(F1))"
   ]
  },
  {
   "cell_type": "markdown",
   "id": "cab13f35",
   "metadata": {},
   "source": [
    "    c. Describe what is meant by the ‘precision/recall tradeoff’.\n",
    "\n",
    "Higher precision decreases false positives, whereas higher recall decreases false negatives. However by increasing one, the other decreases. Thus, a \"tradeoff\" , must be made according to what is most important in the current the situation.\n",
    "     \n",
    "    d. Suppose people that have the disease experience just some minor discomforts, while the follow-up examination of the disease is quite expensive. How would you define a good model in this case in terms of precision and recall? Is the F1-score a useful metric in this case?\n",
    "    \n",
    "Preferably both would be as close as possible to 1. However considering the disease only causes minor discomforts and has an expensive follow-up a higher precision is preferred as it decreases false positives. The F1 is also very valuable as it weights both the effectiveness of the recall and precision. If this however ends up being a very small value the model should be adjusted accordingly.\n",
    "    \n",
    "    \n",
    "    e. In this example, the model was trained and tested on the same dataset. Why is this in general a bad practice? How can you solve this? \n",
    "    \n",
    "When training a model, preferably it does not encounter data it already knew as it obviously will be able to predict it. Instead a part of the dataset should be used for the training and the remaining data used for testing."
   ]
  },
  {
   "cell_type": "markdown",
   "id": "345ff015",
   "metadata": {},
   "source": [
    "## Exercise 2 – The ROC-curve\n",
    "We’re considering a different disease now. This disease is present in 50% of the general population, and we have a dataset containing 100 patients. We will assume a black box model which has as outcome a score between 0 and 1. A threshold can be set to decide when a patient is labelled as positive. For example, at a threshold of 0.6 a patient that receives a score of 0.53 is predicted negative (or 0). At different thresholds the true positives, true negatives, false positives and false negatives are computed. The results are in the table below. In a ROC-curve, the true positive rate is plotted against the false positive rate for different thresholds. \n",
    "\n",
    "    a. Create the ROC-curve based on the data in the table below. "
   ]
  },
  {
   "cell_type": "code",
   "execution_count": 7,
   "id": "1c0ad5fd",
   "metadata": {},
   "outputs": [
    {
     "data": {
      "text/html": [
       "<div>\n",
       "<style scoped>\n",
       "    .dataframe tbody tr th:only-of-type {\n",
       "        vertical-align: middle;\n",
       "    }\n",
       "\n",
       "    .dataframe tbody tr th {\n",
       "        vertical-align: top;\n",
       "    }\n",
       "\n",
       "    .dataframe thead th {\n",
       "        text-align: right;\n",
       "    }\n",
       "</style>\n",
       "<table border=\"1\" class=\"dataframe\">\n",
       "  <thead>\n",
       "    <tr style=\"text-align: right;\">\n",
       "      <th></th>\n",
       "      <th>Threshold</th>\n",
       "      <th>TP</th>\n",
       "      <th>FP</th>\n",
       "      <th>TN</th>\n",
       "      <th>FN</th>\n",
       "    </tr>\n",
       "  </thead>\n",
       "  <tbody>\n",
       "    <tr>\n",
       "      <th>0</th>\n",
       "      <td>0.0</td>\n",
       "      <td>50</td>\n",
       "      <td>50</td>\n",
       "      <td>0</td>\n",
       "      <td>0</td>\n",
       "    </tr>\n",
       "    <tr>\n",
       "      <th>1</th>\n",
       "      <td>0.1</td>\n",
       "      <td>48</td>\n",
       "      <td>47</td>\n",
       "      <td>3</td>\n",
       "      <td>2</td>\n",
       "    </tr>\n",
       "    <tr>\n",
       "      <th>2</th>\n",
       "      <td>0.2</td>\n",
       "      <td>47</td>\n",
       "      <td>40</td>\n",
       "      <td>9</td>\n",
       "      <td>4</td>\n",
       "    </tr>\n",
       "    <tr>\n",
       "      <th>3</th>\n",
       "      <td>0.3</td>\n",
       "      <td>45</td>\n",
       "      <td>30</td>\n",
       "      <td>16</td>\n",
       "      <td>8</td>\n",
       "    </tr>\n",
       "    <tr>\n",
       "      <th>4</th>\n",
       "      <td>0.4</td>\n",
       "      <td>44</td>\n",
       "      <td>23</td>\n",
       "      <td>22</td>\n",
       "      <td>11</td>\n",
       "    </tr>\n",
       "    <tr>\n",
       "      <th>5</th>\n",
       "      <td>0.5</td>\n",
       "      <td>42</td>\n",
       "      <td>16</td>\n",
       "      <td>29</td>\n",
       "      <td>13</td>\n",
       "    </tr>\n",
       "    <tr>\n",
       "      <th>6</th>\n",
       "      <td>0.6</td>\n",
       "      <td>36</td>\n",
       "      <td>12</td>\n",
       "      <td>34</td>\n",
       "      <td>18</td>\n",
       "    </tr>\n",
       "    <tr>\n",
       "      <th>7</th>\n",
       "      <td>0.7</td>\n",
       "      <td>30</td>\n",
       "      <td>11</td>\n",
       "      <td>38</td>\n",
       "      <td>21</td>\n",
       "    </tr>\n",
       "    <tr>\n",
       "      <th>8</th>\n",
       "      <td>0.8</td>\n",
       "      <td>20</td>\n",
       "      <td>4</td>\n",
       "      <td>43</td>\n",
       "      <td>33</td>\n",
       "    </tr>\n",
       "    <tr>\n",
       "      <th>9</th>\n",
       "      <td>0.9</td>\n",
       "      <td>12</td>\n",
       "      <td>3</td>\n",
       "      <td>45</td>\n",
       "      <td>40</td>\n",
       "    </tr>\n",
       "    <tr>\n",
       "      <th>10</th>\n",
       "      <td>1.0</td>\n",
       "      <td>0</td>\n",
       "      <td>0</td>\n",
       "      <td>50</td>\n",
       "      <td>50</td>\n",
       "    </tr>\n",
       "  </tbody>\n",
       "</table>\n",
       "</div>"
      ],
      "text/plain": [
       "    Threshold  TP  FP  TN  FN\n",
       "0         0.0  50  50   0   0\n",
       "1         0.1  48  47   3   2\n",
       "2         0.2  47  40   9   4\n",
       "3         0.3  45  30  16   8\n",
       "4         0.4  44  23  22  11\n",
       "5         0.5  42  16  29  13\n",
       "6         0.6  36  12  34  18\n",
       "7         0.7  30  11  38  21\n",
       "8         0.8  20   4  43  33\n",
       "9         0.9  12   3  45  40\n",
       "10        1.0   0   0  50  50"
      ]
     },
     "execution_count": 7,
     "metadata": {},
     "output_type": "execute_result"
    }
   ],
   "source": [
    "table = pd.read_csv('Confusion.csv')\n",
    "table"
   ]
  },
  {
   "cell_type": "code",
   "execution_count": 8,
   "id": "652b99cb",
   "metadata": {},
   "outputs": [],
   "source": [
    "TP, FP, TN, FN = table['TP'], table['FP'], table['TN'], table['FN']\n",
    "# True positive rate\n",
    "TPR = TP / (TP + FN)\n",
    "table['TPR'] = TPR\n",
    "# False positive rate\n",
    "FPR = FP / (FP + TN)\n",
    "table['FPR'] = FPR"
   ]
  },
  {
   "cell_type": "code",
   "execution_count": 9,
   "id": "4f8de171",
   "metadata": {},
   "outputs": [
    {
     "data": {
      "text/html": [
       "<div>\n",
       "<style scoped>\n",
       "    .dataframe tbody tr th:only-of-type {\n",
       "        vertical-align: middle;\n",
       "    }\n",
       "\n",
       "    .dataframe tbody tr th {\n",
       "        vertical-align: top;\n",
       "    }\n",
       "\n",
       "    .dataframe thead th {\n",
       "        text-align: right;\n",
       "    }\n",
       "</style>\n",
       "<table border=\"1\" class=\"dataframe\">\n",
       "  <thead>\n",
       "    <tr style=\"text-align: right;\">\n",
       "      <th></th>\n",
       "      <th>Threshold</th>\n",
       "      <th>TP</th>\n",
       "      <th>FP</th>\n",
       "      <th>TN</th>\n",
       "      <th>FN</th>\n",
       "      <th>TPR</th>\n",
       "      <th>FPR</th>\n",
       "    </tr>\n",
       "  </thead>\n",
       "  <tbody>\n",
       "    <tr>\n",
       "      <th>0</th>\n",
       "      <td>0.0</td>\n",
       "      <td>50</td>\n",
       "      <td>50</td>\n",
       "      <td>0</td>\n",
       "      <td>0</td>\n",
       "      <td>1.000000</td>\n",
       "      <td>1.000000</td>\n",
       "    </tr>\n",
       "    <tr>\n",
       "      <th>1</th>\n",
       "      <td>0.1</td>\n",
       "      <td>48</td>\n",
       "      <td>47</td>\n",
       "      <td>3</td>\n",
       "      <td>2</td>\n",
       "      <td>0.960000</td>\n",
       "      <td>0.940000</td>\n",
       "    </tr>\n",
       "    <tr>\n",
       "      <th>2</th>\n",
       "      <td>0.2</td>\n",
       "      <td>47</td>\n",
       "      <td>40</td>\n",
       "      <td>9</td>\n",
       "      <td>4</td>\n",
       "      <td>0.921569</td>\n",
       "      <td>0.816327</td>\n",
       "    </tr>\n",
       "    <tr>\n",
       "      <th>3</th>\n",
       "      <td>0.3</td>\n",
       "      <td>45</td>\n",
       "      <td>30</td>\n",
       "      <td>16</td>\n",
       "      <td>8</td>\n",
       "      <td>0.849057</td>\n",
       "      <td>0.652174</td>\n",
       "    </tr>\n",
       "    <tr>\n",
       "      <th>4</th>\n",
       "      <td>0.4</td>\n",
       "      <td>44</td>\n",
       "      <td>23</td>\n",
       "      <td>22</td>\n",
       "      <td>11</td>\n",
       "      <td>0.800000</td>\n",
       "      <td>0.511111</td>\n",
       "    </tr>\n",
       "    <tr>\n",
       "      <th>5</th>\n",
       "      <td>0.5</td>\n",
       "      <td>42</td>\n",
       "      <td>16</td>\n",
       "      <td>29</td>\n",
       "      <td>13</td>\n",
       "      <td>0.763636</td>\n",
       "      <td>0.355556</td>\n",
       "    </tr>\n",
       "    <tr>\n",
       "      <th>6</th>\n",
       "      <td>0.6</td>\n",
       "      <td>36</td>\n",
       "      <td>12</td>\n",
       "      <td>34</td>\n",
       "      <td>18</td>\n",
       "      <td>0.666667</td>\n",
       "      <td>0.260870</td>\n",
       "    </tr>\n",
       "    <tr>\n",
       "      <th>7</th>\n",
       "      <td>0.7</td>\n",
       "      <td>30</td>\n",
       "      <td>11</td>\n",
       "      <td>38</td>\n",
       "      <td>21</td>\n",
       "      <td>0.588235</td>\n",
       "      <td>0.224490</td>\n",
       "    </tr>\n",
       "    <tr>\n",
       "      <th>8</th>\n",
       "      <td>0.8</td>\n",
       "      <td>20</td>\n",
       "      <td>4</td>\n",
       "      <td>43</td>\n",
       "      <td>33</td>\n",
       "      <td>0.377358</td>\n",
       "      <td>0.085106</td>\n",
       "    </tr>\n",
       "    <tr>\n",
       "      <th>9</th>\n",
       "      <td>0.9</td>\n",
       "      <td>12</td>\n",
       "      <td>3</td>\n",
       "      <td>45</td>\n",
       "      <td>40</td>\n",
       "      <td>0.230769</td>\n",
       "      <td>0.062500</td>\n",
       "    </tr>\n",
       "    <tr>\n",
       "      <th>10</th>\n",
       "      <td>1.0</td>\n",
       "      <td>0</td>\n",
       "      <td>0</td>\n",
       "      <td>50</td>\n",
       "      <td>50</td>\n",
       "      <td>0.000000</td>\n",
       "      <td>0.000000</td>\n",
       "    </tr>\n",
       "  </tbody>\n",
       "</table>\n",
       "</div>"
      ],
      "text/plain": [
       "    Threshold  TP  FP  TN  FN       TPR       FPR\n",
       "0         0.0  50  50   0   0  1.000000  1.000000\n",
       "1         0.1  48  47   3   2  0.960000  0.940000\n",
       "2         0.2  47  40   9   4  0.921569  0.816327\n",
       "3         0.3  45  30  16   8  0.849057  0.652174\n",
       "4         0.4  44  23  22  11  0.800000  0.511111\n",
       "5         0.5  42  16  29  13  0.763636  0.355556\n",
       "6         0.6  36  12  34  18  0.666667  0.260870\n",
       "7         0.7  30  11  38  21  0.588235  0.224490\n",
       "8         0.8  20   4  43  33  0.377358  0.085106\n",
       "9         0.9  12   3  45  40  0.230769  0.062500\n",
       "10        1.0   0   0  50  50  0.000000  0.000000"
      ]
     },
     "execution_count": 9,
     "metadata": {},
     "output_type": "execute_result"
    }
   ],
   "source": [
    "table"
   ]
  },
  {
   "cell_type": "code",
   "execution_count": 10,
   "id": "43d817f2",
   "metadata": {},
   "outputs": [
    {
     "data": {
      "image/png": "[encoded data removed]",
      "text/plain": [
       "<Figure size 432x288 with 1 Axes>"
      ]
     },
     "metadata": {
      "needs_background": "light"
     },
     "output_type": "display_data"
    }
   ],
   "source": [
    "mid = np.linspace(0,1,10)\n",
    "plt.scatter(FPR, TPR)\n",
    "plt.plot(FPR, TPR)\n",
    "plt.plot(mid, mid, '--')\n",
    "plt.xlabel('False Positive rate'); plt.ylabel('True Positive rate')\n",
    "plt.title('ROC curve')\n",
    "plt.show()"
   ]
  },
  {
   "cell_type": "markdown",
   "id": "a672d6e7",
   "metadata": {},
   "source": [
    "b. When do you use ROC instead of a precision/recall curve?\n",
    "\n",
    "With certain cases such as as rare diseases, the model will mostly predict negative correctly, and eventually it will miss that small number with positive people. However, it will still be scored pretty high. In this case a ROC curve would be more appropriate as it allowed the user to make a choice based on the treshold."
   ]
  },
  {
   "cell_type": "markdown",
   "id": "85a10da6",
   "metadata": {},
   "source": [
    "## Exercise 3 – performance metrics for regression\n",
    "\n",
    "    a. Typically Python works with Mean Squared Error (MSE) instead of RMSE. Note that RMSE is just the Root of the MSE. In the figures below, linear regression was done on different data sets and the mean squared error was computed. Note the scale on the y-axis. Can you say anything about whether one regression is better than the other? Why (not)?\n",
    "\n",
    "Considering the scales, the MSE on the right should be more accurate due to the smaller numbers and thus more precise."
   ]
  },
  {
   "cell_type": "markdown",
   "id": "26ede21d",
   "metadata": {},
   "source": [
    "    b. On the following values of x and y, linear regression is performed. The corresponding prediction function is: y_pred = 0.84x + 0.66. Compute the predicted values for y at the given x-values, and compute the RMSE."
   ]
  },
  {
   "cell_type": "code",
   "execution_count": 11,
   "id": "9215b324",
   "metadata": {},
   "outputs": [
    {
     "data": {
      "text/plain": [
       "<matplotlib.collections.PathCollection at 0x1858c83e220>"
      ]
     },
     "execution_count": 11,
     "metadata": {},
     "output_type": "execute_result"
    },
    {
     "data": {
      "image/png": "[encoded data removed]",
      "text/plain": [
       "<Figure size 432x288 with 1 Axes>"
      ]
     },
     "metadata": {
      "needs_background": "light"
     },
     "output_type": "display_data"
    }
   ],
   "source": [
    "func = lambda x : 0.84*x + 0.66\n",
    "x = np.array([1, 2, 3, 4, 5])\n",
    "y = np.array([1.3, 2.5, 3.3, 4.1, 4.7])\n",
    "y_pred = [func(i) for i in x]\n",
    "\n",
    "plt.plot(x, y_pred)\n",
    "plt.scatter(x, y)"
   ]
  },
  {
   "cell_type": "code",
   "execution_count": 12,
   "id": "fdd7377a",
   "metadata": {},
   "outputs": [
    {
     "name": "stdout",
     "output_type": "stream",
     "text": [
      "RMSE: 0.14967\n"
     ]
    }
   ],
   "source": [
    "err = y-y_pred\n",
    "errsq = err**2\n",
    "RMSE = np.sqrt(sum(errsq)/len(err))\n",
    "print('RMSE: {:.5}'.format(RMSE))"
   ]
  },
  {
   "cell_type": "markdown",
   "id": "2bd25857",
   "metadata": {},
   "source": [
    "    c. A polynomial regression is done on the data as shown in the figure below, resulting in a RMSE of 0.04. What can you say about the performance of this model compared to the linear model in c? \n",
    "Considering the new value of 0.04, this is smaller then the previously calculated RMSE (0.15). Thus, this new model has smaller errors and should then perform better."
   ]
  }
 ],
 "metadata": {
  "kernelspec": {
   "display_name": "Python 3 (ipykernel)",
   "language": "python",
   "name": "python3"
  },
  "language_info": {
   "codemirror_mode": {
    "name": "ipython",
    "version": 3
   },
   "file_extension": ".py",
   "mimetype": "text/x-python",
   "name": "python",
   "nbconvert_exporter": "python",
   "pygments_lexer": "ipython3",
   "version": "3.9.7"
  }
 },
 "nbformat": 4,
 "nbformat_minor": 5
}
